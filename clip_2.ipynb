{
 "cells": [
  {
   "cell_type": "code",
   "id": "initial_id",
   "metadata": {
    "collapsed": true,
    "jupyter": {
     "is_executing": true
    },
    "ExecuteTime": {
     "start_time": "2025-02-10T12:31:03.772351Z"
    }
   },
   "source": [
    "import torch\n",
    "from PIL import Image\n",
    "import pandas as pd\n",
    "import os\n",
    "from tqdm import tqdm\n",
    "from clip_classifier import CustomAttributeClassifier\n",
    "\n",
    "# Define custom attributes\n",
    "custom_attributes = {\n",
    "    \"ethnicity\": [\"African\", \"Asian\", \"European\"],\n",
    "    \"age\": [\"young\", \"middle aged\", \"elderly\"],\n",
    "    \"expression\": [\"happy\", \"neutral\", \"sad\"]\n",
    "}\n",
    "\n",
    "# Correct path with proper handling of spaces\n",
    "img_dir = \"/home/omrid/Desktop/jungo /projectCLIPvae/celeba_dataset/img_align_celeba/img_align_celeba\"\n",
    "\n",
    "try:\n",
    "    # Initialize classifier\n",
    "    print(\"Initializing CLIP classifier...\")\n",
    "    classifier = CustomAttributeClassifier()\n",
    "    \n",
    "    print(f\"\\nStarting classification for {len(os.listdir(img_dir))} images...\")\n",
    "    \n",
    "    # Run classification with smaller batch size and more frequent updates\n",
    "    results_df = classifier.classify_images(\n",
    "        img_dir=img_dir,\n",
    "        attribute_values=custom_attributes,\n",
    "        batch_size=16  # Smaller batch size for stability\n",
    "    )\n",
    "    \n",
    "    # Save results\n",
    "    output_path = \"celeba_custom_attributes.csv\"\n",
    "    results_df.to_csv(output_path, index=False)\n",
    "    print(f\"\\nResults saved to {output_path}\")\n",
    "    \n",
    "    # Display summary statistics\n",
    "    print(\"\\nDataset summary:\")\n",
    "    for attr in custom_attributes.keys():\n",
    "        print(f\"\\n{attr.capitalize()} distribution:\")\n",
    "        value_counts = results_df[attr].value_counts()\n",
    "        for idx, count in value_counts.items():\n",
    "            attr_value = custom_attributes[attr][idx]\n",
    "            percentage = (count / len(results_df)) * 100\n",
    "            print(f\"{attr_value}: {count} images ({percentage:.1f}%)\")\n",
    "            \n",
    "except Exception as e:\n",
    "    print(f\"Error during classification: {str(e)}\")"
   ],
   "outputs": [
    {
     "name": "stdout",
     "output_type": "stream",
     "text": [
      "Initializing CLIP classifier...\n",
      "Initializing CLIP model on cuda\n",
      "\n",
      "Starting classification for 202599 images...\n",
      "Scanning directory: /home/omrid/Desktop/jungo /projectCLIPvae/celeba_dataset/img_align_celeba/img_align_celeba\n",
      "Found 202599 images\n"
     ]
    },
    {
     "name": "stderr",
     "output_type": "stream",
     "text": [
      "Classifying images:   1%|          | 119/12663 [00:12<21:50,  9.57it/s]"
     ]
    }
   ],
   "execution_count": null
  },
  {
   "metadata": {},
   "cell_type": "code",
   "outputs": [],
   "execution_count": null,
   "source": "",
   "id": "b9695cd2599c396"
  }
 ],
 "metadata": {
  "kernelspec": {
   "display_name": "Python 3",
   "language": "python",
   "name": "python3"
  },
  "language_info": {
   "codemirror_mode": {
    "name": "ipython",
    "version": 2
   },
   "file_extension": ".py",
   "mimetype": "text/x-python",
   "name": "python",
   "nbconvert_exporter": "python",
   "pygments_lexer": "ipython2",
   "version": "2.7.6"
  }
 },
 "nbformat": 4,
 "nbformat_minor": 5
}
