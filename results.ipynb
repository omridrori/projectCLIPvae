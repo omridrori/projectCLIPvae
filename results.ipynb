{
 "cells": [
  {
   "cell_type": "code",
   "id": "initial_id",
   "metadata": {
    "collapsed": true,
    "ExecuteTime": {
     "end_time": "2025-02-13T17:21:29.053785Z",
     "start_time": "2025-02-13T17:16:39.875628Z"
    }
   },
   "source": [
    "import torch\n",
    "from celeba_project import generate_clip_labels, train_vae_model\n",
    "import os\n",
    "from utils import validate_attribute_config\n",
    "\n",
    "\n",
    "\n",
    "# User-defined attributes\n",
    "user_attributes = {\n",
    "    \"ethnicity\": [\"African\", \"Asian\", \"European\"],\n",
    "    \"facial_expression\": [\"happy\", \"sad\", \"angry\"]\n",
    "}\n",
    "\n",
    "# Validate attribute configuration\n",
    "validate_attribute_config({name: len(values) for name, values in user_attributes.items()})\n",
    "\n",
    "# Setup directories\n",
    "img_dir = r\"/home/omrid/Desktop/jungo /projectCLIPvae/celeba_dataset/img_align_celeba/img_align_celeba\"\n",
    "vis_dir = os.path.join('training_outputs', 'visualizations')\n",
    "os.makedirs(vis_dir, exist_ok=True)\n",
    "\n",
    "# Generate labels using CLIP\n",
    "print(\"Step 1: Generating labels using CLIP...\")\n",
    "results_df = generate_clip_labels(\n",
    "    user_attributes=user_attributes,\n",
    "    img_dir=img_dir,\n",
    "    max_images=50000\n",
    ")\n",
    "\n",
    "\n"
   ],
   "outputs": [
    {
     "name": "stdout",
     "output_type": "stream",
     "text": [
      "Step 1: Generating labels using CLIP...\n",
      "Generating labels using CLIP...\n",
      "Initializing CLIP model on cuda\n",
      "OpenAI API key found!\n",
      "\n",
      "Initializing Template Generator...\n",
      "API Key provided: Yes\n",
      "Successfully initialized ChatOpenAI\n"
     ]
    },
    {
     "name": "stderr",
     "output_type": "stream",
     "text": [
      "/home/omrid/Desktop/jungo /projectCLIPvae/clip_classifier.py:26: LangChainDeprecationWarning: The class `ChatOpenAI` was deprecated in LangChain 0.0.10 and will be removed in 1.0. An updated version of the class exists in the :class:`~langchain-openai package and should be used instead. To use it run `pip install -U :class:`~langchain-openai` and import as `from :class:`~langchain_openai import ChatOpenAI``.\n",
      "  self.llm = ChatOpenAI(\n",
      "/home/omrid/miniconda3/envs/clipVAE/lib/python3.11/site-packages/torch/cuda/__init__.py:716: UserWarning: Can't initialize NVML\n",
      "  warnings.warn(\"Can't initialize NVML\")\n"
     ]
    },
    {
     "name": "stdout",
     "output_type": "stream",
     "text": [
      "\n",
      "Processing 50000 images out of 202599 total images\n",
      "Generating templates...\n",
      "\n",
      "Attempting to generate templates using GPT...\n",
      "\n",
      "Generating templates for attributes:\n",
      "ethnicity: African, Asian, European\n",
      "facial_expression: happy, sad, angry\n",
      "\n",
      "Sending request to GPT...\n"
     ]
    },
    {
     "name": "stderr",
     "output_type": "stream",
     "text": [
      "/home/omrid/Desktop/jungo /projectCLIPvae/clip_classifier.py:104: LangChainDeprecationWarning: The method `BaseChatModel.predict` was deprecated in langchain-core 0.1.7 and will be removed in 1.0. Use :meth:`~invoke` instead.\n",
      "  response = self.llm.predict(prompt)\n"
     ]
    },
    {
     "name": "stdout",
     "output_type": "stream",
     "text": [
      "\n",
      "Received response from GPT. First 200 characters:\n",
      "{\n",
      "    \"ethnicity\": {\n",
      "        \"African\": [\n",
      "            \"a photograph of a person with African features\",\n",
      "            \"an African person\",\n",
      "            \"a face with African characteristics\",\n",
      "            ...\n",
      "\n",
      "Successfully parsed JSON response\n",
      "\n",
      "Template structure:\n",
      "\n",
      "ethnicity:\n",
      "  African: 5 templates\n",
      "  Asian: 5 templates\n",
      "  European: 5 templates\n",
      "\n",
      "facial_expression:\n",
      "  happy: 5 templates\n",
      "  sad: 5 templates\n",
      "  angry: 5 templates\n",
      "Successfully generated templates using GPT!\n",
      "\n",
      "Current Templates:\n",
      "==================================================\n",
      "\n",
      "ETHNICITY:\n",
      "------------------------------\n",
      "\n",
      "African:\n",
      "  1. a photograph of a person with African features\n",
      "  2. an African person\n",
      "  3. a face with African characteristics\n",
      "  4. a portrait of an African person\n",
      "  5. a person of African descent\n",
      "\n",
      "Asian:\n",
      "  1. a photograph of a person with Asian features\n",
      "  2. an Asian person\n",
      "  3. a face with Asian characteristics\n",
      "  4. a portrait of an Asian person\n",
      "  5. a person of Asian descent\n",
      "\n",
      "European:\n",
      "  1. a photograph of a person with European features\n",
      "  2. a European person\n",
      "  3. a face with European characteristics\n",
      "  4. a portrait of a European person\n",
      "  5. a person of European descent\n",
      "\n",
      "FACIAL_EXPRESSION:\n",
      "------------------------------\n",
      "\n",
      "happy:\n",
      "  1. a photograph of a person with a happy expression\n",
      "  2. a person with a happy face\n",
      "  3. a smiling individual\n",
      "  4. a portrait of a happy person\n",
      "  5. a person showing happiness\n",
      "\n",
      "sad:\n",
      "  1. a photograph of a person with a sad expression\n",
      "  2. a person with a sad face\n",
      "  3. a sorrowful individual\n",
      "  4. a portrait of a sad person\n",
      "  5. a person showing sadness\n",
      "\n",
      "angry:\n",
      "  1. a photograph of a person with an angry expression\n",
      "  2. a person with an angry face\n",
      "  3. an enraged individual\n",
      "  4. a portrait of an angry person\n",
      "  5. a person showing anger\n",
      "\n",
      "==================================================\n",
      "\n",
      "\n",
      "Scanning directory: /tmp/tmp7ezqm2dv\n",
      "Found 50000 images\n"
     ]
    },
    {
     "name": "stderr",
     "output_type": "stream",
     "text": [
      "Classifying images: 100%|██████████| 3125/3125 [04:39<00:00, 11.19it/s]\n"
     ]
    },
    {
     "name": "stdout",
     "output_type": "stream",
     "text": [
      "\n",
      "Processed 50000 images successfully\n",
      "\n",
      "Attribute distribution:\n",
      "\n",
      "Ethnicity Distribution:\n",
      "------------------------------\n",
      "African                  :  4,886 (   9.8%)\n",
      "Asian                    :  8,596 (  17.2%)\n",
      "European                 : 36,518 (  73.0%)\n",
      "\n",
      "Facial_expression Distribution:\n",
      "------------------------------\n",
      "happy                    : 27,120 (  54.2%)\n",
      "sad                      : 12,528 (  25.1%)\n",
      "angry                    : 10,352 (  20.7%)\n"
     ]
    }
   ],
   "execution_count": 1
  },
  {
   "metadata": {
    "ExecuteTime": {
     "end_time": "2025-02-14T17:54:40.394354Z",
     "start_time": "2025-02-14T05:38:02.997253Z"
    }
   },
   "cell_type": "code",
   "source": [
    "# Train VAE\n",
    "print(\"\\nStep 2: Training VAE...\")\n",
    "device = torch.device(\"cuda\" if torch.cuda.is_available() else \"cpu\")\n",
    "vae, loss_history = train_vae_model(\n",
    "    results_df=results_df,\n",
    "    user_attributes=user_attributes,\n",
    "    img_dir=img_dir,\n",
    "    device=device,\n",
    "    batch_size=32,\n",
    "    num_epochs=100,\n",
    "    vis_dir=vis_dir\n",
    ")\n",
    "\n",
    "print(\"\\nTraining complete! Check the visualization directory for results.\")"
   ],
   "id": "2ab244f0362f9d36",
   "outputs": [
    {
     "name": "stdout",
     "output_type": "stream",
     "text": [
      "\n",
      "Step 2: Training VAE...\n",
      "\n",
      "Preparing for training...\n",
      "\n",
      "Starting training...\n"
     ]
    },
    {
     "name": "stderr",
     "output_type": "stream",
     "text": [
      "Epoch 0/100: 100%|██████████| 1563/1563 [07:27<00:00,  3.50it/s]\n"
     ]
    },
    {
     "name": "stdout",
     "output_type": "stream",
     "text": [
      "Epoch 0/100 | Total: 7098.851914 | Reconstruction: 7036.587942 | Kl: 62.223803 | Clip: 0.200917\n"
     ]
    },
    {
     "name": "stderr",
     "output_type": "stream",
     "text": [
      "Epoch 1/100: 100%|██████████| 1563/1563 [07:13<00:00,  3.60it/s]\n"
     ]
    },
    {
     "name": "stdout",
     "output_type": "stream",
     "text": [
      "Epoch 1/100 | Total: 6650.256479 | Reconstruction: 6573.070105 | Kl: 77.146231 | Clip: 0.200901\n"
     ]
    },
    {
     "name": "stderr",
     "output_type": "stream",
     "text": [
      "Epoch 2/100: 100%|██████████| 1563/1563 [07:28<00:00,  3.49it/s]\n"
     ]
    },
    {
     "name": "stdout",
     "output_type": "stream",
     "text": [
      "Epoch 2/100 | Total: 6557.694962 | Reconstruction: 6479.436618 | Kl: 78.218223 | Clip: 0.200799\n"
     ]
    },
    {
     "name": "stderr",
     "output_type": "stream",
     "text": [
      "Epoch 3/100: 100%|██████████| 1563/1563 [07:14<00:00,  3.60it/s]\n"
     ]
    },
    {
     "name": "stdout",
     "output_type": "stream",
     "text": [
      "Epoch 3/100 | Total: 6499.281135 | Reconstruction: 6419.136405 | Kl: 80.104636 | Clip: 0.200690\n"
     ]
    },
    {
     "name": "stderr",
     "output_type": "stream",
     "text": [
      "Epoch 4/100: 100%|██████████| 1563/1563 [07:26<00:00,  3.50it/s]\n"
     ]
    },
    {
     "name": "stdout",
     "output_type": "stream",
     "text": [
      "Epoch 4/100 | Total: 6467.026268 | Reconstruction: 6386.091393 | Kl: 80.894794 | Clip: 0.200570\n"
     ]
    },
    {
     "name": "stderr",
     "output_type": "stream",
     "text": [
      "Epoch 5/100: 100%|██████████| 1563/1563 [07:14<00:00,  3.60it/s]\n"
     ]
    },
    {
     "name": "stdout",
     "output_type": "stream",
     "text": [
      "Epoch 5/100 | Total: 6447.675050 | Reconstruction: 6366.698868 | Kl: 80.936110 | Clip: 0.200509\n"
     ]
    },
    {
     "name": "stderr",
     "output_type": "stream",
     "text": [
      "Epoch 6/100: 100%|██████████| 1563/1563 [07:26<00:00,  3.50it/s]\n"
     ]
    },
    {
     "name": "stdout",
     "output_type": "stream",
     "text": [
      "Epoch 6/100 | Total: 6432.721191 | Reconstruction: 6351.527413 | Kl: 81.153710 | Clip: 0.200475\n"
     ]
    },
    {
     "name": "stderr",
     "output_type": "stream",
     "text": [
      "Epoch 7/100: 100%|██████████| 1563/1563 [07:14<00:00,  3.60it/s]\n"
     ]
    },
    {
     "name": "stdout",
     "output_type": "stream",
     "text": [
      "Epoch 7/100 | Total: 6420.939441 | Reconstruction: 6339.484313 | Kl: 81.415068 | Clip: 0.200438\n"
     ]
    },
    {
     "name": "stderr",
     "output_type": "stream",
     "text": [
      "Epoch 8/100: 100%|██████████| 1563/1563 [07:26<00:00,  3.50it/s]\n"
     ]
    },
    {
     "name": "stdout",
     "output_type": "stream",
     "text": [
      "Epoch 8/100 | Total: 6411.674380 | Reconstruction: 6330.043968 | Kl: 81.590345 | Clip: 0.200426\n"
     ]
    },
    {
     "name": "stderr",
     "output_type": "stream",
     "text": [
      "Epoch 9/100: 100%|██████████| 1563/1563 [07:14<00:00,  3.60it/s]\n"
     ]
    },
    {
     "name": "stdout",
     "output_type": "stream",
     "text": [
      "Epoch 9/100 | Total: 6404.030932 | Reconstruction: 6322.150416 | Kl: 81.840454 | Clip: 0.200431\n"
     ]
    },
    {
     "name": "stderr",
     "output_type": "stream",
     "text": [
      "Epoch 10/100: 100%|██████████| 1563/1563 [07:25<00:00,  3.51it/s]\n"
     ]
    },
    {
     "name": "stdout",
     "output_type": "stream",
     "text": [
      "Epoch 10/100 | Total: 6396.986758 | Reconstruction: 6315.066804 | Kl: 81.879898 | Clip: 0.200414\n"
     ]
    },
    {
     "name": "stderr",
     "output_type": "stream",
     "text": [
      "Epoch 11/100: 100%|██████████| 1563/1563 [07:14<00:00,  3.60it/s]\n"
     ]
    },
    {
     "name": "stdout",
     "output_type": "stream",
     "text": [
      "Epoch 11/100 | Total: 6391.574643 | Reconstruction: 6309.475360 | Kl: 82.059213 | Clip: 0.200431\n"
     ]
    },
    {
     "name": "stderr",
     "output_type": "stream",
     "text": [
      "Epoch 12/100: 100%|██████████| 1563/1563 [07:26<00:00,  3.50it/s]\n"
     ]
    },
    {
     "name": "stdout",
     "output_type": "stream",
     "text": [
      "Epoch 12/100 | Total: 6386.232737 | Reconstruction: 6303.727085 | Kl: 82.465591 | Clip: 0.200411\n"
     ]
    },
    {
     "name": "stderr",
     "output_type": "stream",
     "text": [
      "Epoch 13/100: 100%|██████████| 1563/1563 [07:14<00:00,  3.60it/s]\n"
     ]
    },
    {
     "name": "stdout",
     "output_type": "stream",
     "text": [
      "Epoch 13/100 | Total: 6381.723120 | Reconstruction: 6298.831105 | Kl: 82.851950 | Clip: 0.200428\n"
     ]
    },
    {
     "name": "stderr",
     "output_type": "stream",
     "text": [
      "Epoch 14/100: 100%|██████████| 1563/1563 [07:27<00:00,  3.49it/s]\n"
     ]
    },
    {
     "name": "stdout",
     "output_type": "stream",
     "text": [
      "Epoch 14/100 | Total: 6377.461373 | Reconstruction: 6294.423333 | Kl: 82.997975 | Clip: 0.200428\n"
     ]
    },
    {
     "name": "stderr",
     "output_type": "stream",
     "text": [
      "Epoch 15/100: 100%|██████████| 1563/1563 [07:15<00:00,  3.59it/s]\n"
     ]
    },
    {
     "name": "stdout",
     "output_type": "stream",
     "text": [
      "Epoch 15/100 | Total: 6374.046387 | Reconstruction: 6290.867128 | Kl: 83.139186 | Clip: 0.200452\n"
     ]
    },
    {
     "name": "stderr",
     "output_type": "stream",
     "text": [
      "Epoch 16/100: 100%|██████████| 1563/1563 [07:28<00:00,  3.48it/s]\n"
     ]
    },
    {
     "name": "stdout",
     "output_type": "stream",
     "text": [
      "Epoch 16/100 | Total: 6371.078405 | Reconstruction: 6287.779781 | Kl: 83.258560 | Clip: 0.200416\n"
     ]
    },
    {
     "name": "stderr",
     "output_type": "stream",
     "text": [
      "Epoch 17/100: 100%|██████████| 1563/1563 [07:14<00:00,  3.59it/s]\n"
     ]
    },
    {
     "name": "stdout",
     "output_type": "stream",
     "text": [
      "Epoch 17/100 | Total: 6367.829060 | Reconstruction: 6284.334437 | Kl: 83.454560 | Clip: 0.200406\n"
     ]
    },
    {
     "name": "stderr",
     "output_type": "stream",
     "text": [
      "Epoch 18/100: 100%|██████████| 1563/1563 [07:27<00:00,  3.49it/s]\n"
     ]
    },
    {
     "name": "stdout",
     "output_type": "stream",
     "text": [
      "Epoch 18/100 | Total: 6365.298445 | Reconstruction: 6281.545166 | Kl: 83.713210 | Clip: 0.200431\n"
     ]
    },
    {
     "name": "stderr",
     "output_type": "stream",
     "text": [
      "Epoch 19/100: 100%|██████████| 1563/1563 [07:13<00:00,  3.60it/s]\n"
     ]
    },
    {
     "name": "stdout",
     "output_type": "stream",
     "text": [
      "Epoch 19/100 | Total: 6362.759283 | Reconstruction: 6278.798198 | Kl: 83.921013 | Clip: 0.200423\n"
     ]
    },
    {
     "name": "stderr",
     "output_type": "stream",
     "text": [
      "Epoch 20/100: 100%|██████████| 1563/1563 [07:27<00:00,  3.49it/s]\n"
     ]
    },
    {
     "name": "stdout",
     "output_type": "stream",
     "text": [
      "Epoch 20/100 | Total: 6360.526069 | Reconstruction: 6276.316974 | Kl: 84.169025 | Clip: 0.200416\n"
     ]
    },
    {
     "name": "stderr",
     "output_type": "stream",
     "text": [
      "Epoch 21/100: 100%|██████████| 1563/1563 [07:14<00:00,  3.60it/s]\n"
     ]
    },
    {
     "name": "stdout",
     "output_type": "stream",
     "text": [
      "Epoch 21/100 | Total: 6358.132986 | Reconstruction: 6273.577103 | Kl: 84.515824 | Clip: 0.200423\n"
     ]
    },
    {
     "name": "stderr",
     "output_type": "stream",
     "text": [
      "Epoch 22/100: 100%|██████████| 1563/1563 [07:29<00:00,  3.48it/s]\n"
     ]
    },
    {
     "name": "stdout",
     "output_type": "stream",
     "text": [
      "Epoch 22/100 | Total: 6355.864691 | Reconstruction: 6270.900040 | Kl: 84.924579 | Clip: 0.200438\n"
     ]
    },
    {
     "name": "stderr",
     "output_type": "stream",
     "text": [
      "Epoch 23/100: 100%|██████████| 1563/1563 [07:15<00:00,  3.59it/s]\n"
     ]
    },
    {
     "name": "stdout",
     "output_type": "stream",
     "text": [
      "Epoch 23/100 | Total: 6353.798264 | Reconstruction: 6268.329397 | Kl: 85.428795 | Clip: 0.200430\n"
     ]
    },
    {
     "name": "stderr",
     "output_type": "stream",
     "text": [
      "Epoch 24/100: 100%|██████████| 1563/1563 [07:27<00:00,  3.49it/s]\n"
     ]
    },
    {
     "name": "stdout",
     "output_type": "stream",
     "text": [
      "Epoch 24/100 | Total: 6351.686436 | Reconstruction: 6265.857147 | Kl: 85.789221 | Clip: 0.200432\n"
     ]
    },
    {
     "name": "stderr",
     "output_type": "stream",
     "text": [
      "Epoch 25/100: 100%|██████████| 1563/1563 [07:14<00:00,  3.59it/s]\n"
     ]
    },
    {
     "name": "stdout",
     "output_type": "stream",
     "text": [
      "Epoch 25/100 | Total: 6349.836034 | Reconstruction: 6263.678419 | Kl: 86.117540 | Clip: 0.200429\n"
     ]
    },
    {
     "name": "stderr",
     "output_type": "stream",
     "text": [
      "Epoch 26/100: 100%|██████████| 1563/1563 [07:30<00:00,  3.47it/s]\n"
     ]
    },
    {
     "name": "stdout",
     "output_type": "stream",
     "text": [
      "Epoch 26/100 | Total: 6347.934736 | Reconstruction: 6261.557753 | Kl: 86.336916 | Clip: 0.200418\n"
     ]
    },
    {
     "name": "stderr",
     "output_type": "stream",
     "text": [
      "Epoch 27/100: 100%|██████████| 1563/1563 [07:15<00:00,  3.59it/s]\n"
     ]
    },
    {
     "name": "stdout",
     "output_type": "stream",
     "text": [
      "Epoch 27/100 | Total: 6346.522056 | Reconstruction: 6259.987500 | Kl: 86.494478 | Clip: 0.200468\n"
     ]
    },
    {
     "name": "stderr",
     "output_type": "stream",
     "text": [
      "Epoch 28/100: 100%|██████████| 1563/1563 [07:28<00:00,  3.49it/s]\n"
     ]
    },
    {
     "name": "stdout",
     "output_type": "stream",
     "text": [
      "Epoch 28/100 | Total: 6345.066139 | Reconstruction: 6258.389131 | Kl: 86.636930 | Clip: 0.200442\n"
     ]
    },
    {
     "name": "stderr",
     "output_type": "stream",
     "text": [
      "Epoch 29/100: 100%|██████████| 1563/1563 [07:14<00:00,  3.60it/s]\n"
     ]
    },
    {
     "name": "stdout",
     "output_type": "stream",
     "text": [
      "Epoch 29/100 | Total: 6343.568420 | Reconstruction: 6256.775488 | Kl: 86.752864 | Clip: 0.200423\n"
     ]
    },
    {
     "name": "stderr",
     "output_type": "stream",
     "text": [
      "Epoch 30/100: 100%|██████████| 1563/1563 [07:28<00:00,  3.48it/s]\n"
     ]
    },
    {
     "name": "stdout",
     "output_type": "stream",
     "text": [
      "Epoch 30/100 | Total: 6342.092865 | Reconstruction: 6255.212288 | Kl: 86.840501 | Clip: 0.200442\n"
     ]
    },
    {
     "name": "stderr",
     "output_type": "stream",
     "text": [
      "Epoch 31/100: 100%|██████████| 1563/1563 [07:14<00:00,  3.59it/s]\n"
     ]
    },
    {
     "name": "stdout",
     "output_type": "stream",
     "text": [
      "Epoch 31/100 | Total: 6340.756962 | Reconstruction: 6253.825456 | Kl: 86.891442 | Clip: 0.200405\n"
     ]
    },
    {
     "name": "stderr",
     "output_type": "stream",
     "text": [
      "Epoch 32/100: 100%|██████████| 1563/1563 [07:28<00:00,  3.49it/s]\n"
     ]
    },
    {
     "name": "stdout",
     "output_type": "stream",
     "text": [
      "Epoch 32/100 | Total: 6339.623909 | Reconstruction: 6252.547962 | Kl: 87.035879 | Clip: 0.200443\n"
     ]
    },
    {
     "name": "stderr",
     "output_type": "stream",
     "text": [
      "Epoch 33/100: 100%|██████████| 1563/1563 [07:14<00:00,  3.60it/s]\n"
     ]
    },
    {
     "name": "stdout",
     "output_type": "stream",
     "text": [
      "Epoch 33/100 | Total: 6338.314153 | Reconstruction: 6251.171555 | Kl: 87.102541 | Clip: 0.200431\n"
     ]
    },
    {
     "name": "stderr",
     "output_type": "stream",
     "text": [
      "Epoch 34/100: 100%|██████████| 1563/1563 [07:26<00:00,  3.50it/s]\n"
     ]
    },
    {
     "name": "stdout",
     "output_type": "stream",
     "text": [
      "Epoch 34/100 | Total: 6336.993738 | Reconstruction: 6249.663476 | Kl: 87.290187 | Clip: 0.200454\n"
     ]
    },
    {
     "name": "stderr",
     "output_type": "stream",
     "text": [
      "Epoch 35/100: 100%|██████████| 1563/1563 [07:15<00:00,  3.59it/s]\n"
     ]
    },
    {
     "name": "stdout",
     "output_type": "stream",
     "text": [
      "Epoch 35/100 | Total: 6335.988018 | Reconstruction: 6248.441234 | Kl: 87.506714 | Clip: 0.200418\n"
     ]
    },
    {
     "name": "stderr",
     "output_type": "stream",
     "text": [
      "Epoch 36/100: 100%|██████████| 1563/1563 [07:27<00:00,  3.49it/s]\n"
     ]
    },
    {
     "name": "stdout",
     "output_type": "stream",
     "text": [
      "Epoch 36/100 | Total: 6334.765139 | Reconstruction: 6246.917659 | Kl: 87.807404 | Clip: 0.200436\n"
     ]
    },
    {
     "name": "stderr",
     "output_type": "stream",
     "text": [
      "Epoch 37/100: 100%|██████████| 1563/1563 [07:13<00:00,  3.60it/s]\n"
     ]
    },
    {
     "name": "stdout",
     "output_type": "stream",
     "text": [
      "Epoch 37/100 | Total: 6333.469325 | Reconstruction: 6245.418968 | Kl: 88.010284 | Clip: 0.200451\n"
     ]
    },
    {
     "name": "stderr",
     "output_type": "stream",
     "text": [
      "Epoch 38/100: 100%|██████████| 1563/1563 [07:23<00:00,  3.53it/s]\n"
     ]
    },
    {
     "name": "stdout",
     "output_type": "stream",
     "text": [
      "Epoch 38/100 | Total: 6332.614003 | Reconstruction: 6244.375972 | Kl: 88.197961 | Clip: 0.200440\n"
     ]
    },
    {
     "name": "stderr",
     "output_type": "stream",
     "text": [
      "Epoch 39/100: 100%|██████████| 1563/1563 [07:19<00:00,  3.56it/s]\n"
     ]
    },
    {
     "name": "stdout",
     "output_type": "stream",
     "text": [
      "Epoch 39/100 | Total: 6331.672919 | Reconstruction: 6243.200812 | Kl: 88.432030 | Clip: 0.200449\n"
     ]
    },
    {
     "name": "stderr",
     "output_type": "stream",
     "text": [
      "Epoch 40/100: 100%|██████████| 1563/1563 [07:17<00:00,  3.57it/s]\n"
     ]
    },
    {
     "name": "stdout",
     "output_type": "stream",
     "text": [
      "Epoch 40/100 | Total: 6330.060009 | Reconstruction: 6241.310752 | Kl: 88.709185 | Clip: 0.200439\n"
     ]
    },
    {
     "name": "stderr",
     "output_type": "stream",
     "text": [
      "Epoch 41/100: 100%|██████████| 1563/1563 [07:29<00:00,  3.48it/s]\n"
     ]
    },
    {
     "name": "stdout",
     "output_type": "stream",
     "text": [
      "Epoch 41/100 | Total: 6328.909205 | Reconstruction: 6239.977272 | Kl: 88.891860 | Clip: 0.200462\n"
     ]
    },
    {
     "name": "stderr",
     "output_type": "stream",
     "text": [
      "Epoch 42/100: 100%|██████████| 1563/1563 [07:15<00:00,  3.59it/s]\n"
     ]
    },
    {
     "name": "stdout",
     "output_type": "stream",
     "text": [
      "Epoch 42/100 | Total: 6328.031166 | Reconstruction: 6238.848385 | Kl: 89.142710 | Clip: 0.200448\n"
     ]
    },
    {
     "name": "stderr",
     "output_type": "stream",
     "text": [
      "Epoch 43/100: 100%|██████████| 1563/1563 [07:29<00:00,  3.48it/s]\n"
     ]
    },
    {
     "name": "stdout",
     "output_type": "stream",
     "text": [
      "Epoch 43/100 | Total: 6327.118877 | Reconstruction: 6237.710789 | Kl: 89.368022 | Clip: 0.200449\n"
     ]
    },
    {
     "name": "stderr",
     "output_type": "stream",
     "text": [
      "Epoch 44/100: 100%|██████████| 1563/1563 [07:15<00:00,  3.59it/s]\n"
     ]
    },
    {
     "name": "stdout",
     "output_type": "stream",
     "text": [
      "Epoch 44/100 | Total: 6326.323381 | Reconstruction: 6236.650718 | Kl: 89.632601 | Clip: 0.200439\n"
     ]
    },
    {
     "name": "stderr",
     "output_type": "stream",
     "text": [
      "Epoch 45/100: 100%|██████████| 1563/1563 [07:28<00:00,  3.49it/s]\n"
     ]
    },
    {
     "name": "stdout",
     "output_type": "stream",
     "text": [
      "Epoch 45/100 | Total: 6325.441838 | Reconstruction: 6235.594677 | Kl: 89.807090 | Clip: 0.200426\n"
     ]
    },
    {
     "name": "stderr",
     "output_type": "stream",
     "text": [
      "Epoch 46/100: 100%|██████████| 1563/1563 [07:15<00:00,  3.59it/s]\n"
     ]
    },
    {
     "name": "stdout",
     "output_type": "stream",
     "text": [
      "Epoch 46/100 | Total: 6324.546063 | Reconstruction: 6234.556562 | Kl: 89.949424 | Clip: 0.200447\n"
     ]
    },
    {
     "name": "stderr",
     "output_type": "stream",
     "text": [
      "Epoch 47/100: 100%|██████████| 1563/1563 [07:28<00:00,  3.48it/s]\n"
     ]
    },
    {
     "name": "stdout",
     "output_type": "stream",
     "text": [
      "Epoch 47/100 | Total: 6323.542073 | Reconstruction: 6233.292550 | Kl: 90.209453 | Clip: 0.200465\n"
     ]
    },
    {
     "name": "stderr",
     "output_type": "stream",
     "text": [
      "Epoch 48/100: 100%|██████████| 1563/1563 [07:15<00:00,  3.59it/s]\n"
     ]
    },
    {
     "name": "stdout",
     "output_type": "stream",
     "text": [
      "Epoch 48/100 | Total: 6322.833447 | Reconstruction: 6232.418548 | Kl: 90.374824 | Clip: 0.200451\n"
     ]
    },
    {
     "name": "stderr",
     "output_type": "stream",
     "text": [
      "Epoch 49/100: 100%|██████████| 1563/1563 [07:26<00:00,  3.50it/s]\n"
     ]
    },
    {
     "name": "stdout",
     "output_type": "stream",
     "text": [
      "Epoch 49/100 | Total: 6321.769511 | Reconstruction: 6231.325997 | Kl: 90.403440 | Clip: 0.200425\n"
     ]
    },
    {
     "name": "stderr",
     "output_type": "stream",
     "text": [
      "Epoch 50/100: 100%|██████████| 1563/1563 [07:15<00:00,  3.59it/s]\n"
     ]
    },
    {
     "name": "stdout",
     "output_type": "stream",
     "text": [
      "Epoch 50/100 | Total: 6321.395903 | Reconstruction: 6230.873454 | Kl: 90.482383 | Clip: 0.200424\n"
     ]
    },
    {
     "name": "stderr",
     "output_type": "stream",
     "text": [
      "Epoch 51/100: 100%|██████████| 1563/1563 [07:26<00:00,  3.50it/s]\n"
     ]
    },
    {
     "name": "stdout",
     "output_type": "stream",
     "text": [
      "Epoch 51/100 | Total: 6320.508360 | Reconstruction: 6229.994312 | Kl: 90.473977 | Clip: 0.200409\n"
     ]
    },
    {
     "name": "stderr",
     "output_type": "stream",
     "text": [
      "Epoch 52/100: 100%|██████████| 1563/1563 [07:14<00:00,  3.60it/s]\n"
     ]
    },
    {
     "name": "stdout",
     "output_type": "stream",
     "text": [
      "Epoch 52/100 | Total: 6319.792191 | Reconstruction: 6229.202172 | Kl: 90.549943 | Clip: 0.200408\n"
     ]
    },
    {
     "name": "stderr",
     "output_type": "stream",
     "text": [
      "Epoch 53/100: 100%|██████████| 1563/1563 [07:27<00:00,  3.49it/s]\n"
     ]
    },
    {
     "name": "stdout",
     "output_type": "stream",
     "text": [
      "Epoch 53/100 | Total: 6318.974677 | Reconstruction: 6228.416592 | Kl: 90.518011 | Clip: 0.200437\n"
     ]
    },
    {
     "name": "stderr",
     "output_type": "stream",
     "text": [
      "Epoch 54/100: 100%|██████████| 1563/1563 [07:15<00:00,  3.59it/s]\n"
     ]
    },
    {
     "name": "stdout",
     "output_type": "stream",
     "text": [
      "Epoch 54/100 | Total: 6318.489197 | Reconstruction: 6227.832754 | Kl: 90.616365 | Clip: 0.200409\n"
     ]
    },
    {
     "name": "stderr",
     "output_type": "stream",
     "text": [
      "Epoch 55/100: 100%|██████████| 1563/1563 [07:28<00:00,  3.48it/s]\n"
     ]
    },
    {
     "name": "stdout",
     "output_type": "stream",
     "text": [
      "Epoch 55/100 | Total: 6318.045384 | Reconstruction: 6227.388370 | Kl: 90.616946 | Clip: 0.200416\n"
     ]
    },
    {
     "name": "stderr",
     "output_type": "stream",
     "text": [
      "Epoch 56/100: 100%|██████████| 1563/1563 [07:14<00:00,  3.60it/s]\n"
     ]
    },
    {
     "name": "stdout",
     "output_type": "stream",
     "text": [
      "Epoch 56/100 | Total: 6317.136426 | Reconstruction: 6226.497483 | Kl: 90.598862 | Clip: 0.200432\n"
     ]
    },
    {
     "name": "stderr",
     "output_type": "stream",
     "text": [
      "Epoch 57/100: 100%|██████████| 1563/1563 [07:28<00:00,  3.49it/s]\n"
     ]
    },
    {
     "name": "stdout",
     "output_type": "stream",
     "text": [
      "Epoch 57/100 | Total: 6316.594909 | Reconstruction: 6225.797812 | Kl: 90.757035 | Clip: 0.200410\n"
     ]
    },
    {
     "name": "stderr",
     "output_type": "stream",
     "text": [
      "Epoch 58/100: 100%|██████████| 1563/1563 [07:14<00:00,  3.60it/s]\n"
     ]
    },
    {
     "name": "stdout",
     "output_type": "stream",
     "text": [
      "Epoch 58/100 | Total: 6316.127749 | Reconstruction: 6225.246045 | Kl: 90.841634 | Clip: 0.200424\n"
     ]
    },
    {
     "name": "stderr",
     "output_type": "stream",
     "text": [
      "Epoch 59/100: 100%|██████████| 1563/1563 [07:28<00:00,  3.49it/s]\n"
     ]
    },
    {
     "name": "stdout",
     "output_type": "stream",
     "text": [
      "Epoch 59/100 | Total: 6315.539762 | Reconstruction: 6224.575037 | Kl: 90.924657 | Clip: 0.200420\n"
     ]
    },
    {
     "name": "stderr",
     "output_type": "stream",
     "text": [
      "Epoch 60/100: 100%|██████████| 1563/1563 [07:15<00:00,  3.59it/s]\n"
     ]
    },
    {
     "name": "stdout",
     "output_type": "stream",
     "text": [
      "Epoch 60/100 | Total: 6315.081989 | Reconstruction: 6224.075668 | Kl: 90.966244 | Clip: 0.200453\n"
     ]
    },
    {
     "name": "stderr",
     "output_type": "stream",
     "text": [
      "Epoch 61/100: 100%|██████████| 1563/1563 [07:29<00:00,  3.48it/s]\n"
     ]
    },
    {
     "name": "stdout",
     "output_type": "stream",
     "text": [
      "Epoch 61/100 | Total: 6314.277695 | Reconstruction: 6223.155410 | Kl: 91.082222 | Clip: 0.200429\n"
     ]
    },
    {
     "name": "stderr",
     "output_type": "stream",
     "text": [
      "Epoch 62/100: 100%|██████████| 1563/1563 [07:14<00:00,  3.60it/s]\n"
     ]
    },
    {
     "name": "stdout",
     "output_type": "stream",
     "text": [
      "Epoch 62/100 | Total: 6313.786380 | Reconstruction: 6222.528127 | Kl: 91.218185 | Clip: 0.200414\n"
     ]
    },
    {
     "name": "stderr",
     "output_type": "stream",
     "text": [
      "Epoch 63/100: 100%|██████████| 1563/1563 [07:27<00:00,  3.50it/s]\n"
     ]
    },
    {
     "name": "stdout",
     "output_type": "stream",
     "text": [
      "Epoch 63/100 | Total: 6313.221174 | Reconstruction: 6222.004790 | Kl: 91.176314 | Clip: 0.200433\n"
     ]
    },
    {
     "name": "stderr",
     "output_type": "stream",
     "text": [
      "Epoch 64/100: 100%|██████████| 1563/1563 [07:14<00:00,  3.59it/s]\n"
     ]
    },
    {
     "name": "stdout",
     "output_type": "stream",
     "text": [
      "Epoch 64/100 | Total: 6312.790500 | Reconstruction: 6221.493067 | Kl: 91.257368 | Clip: 0.200421\n"
     ]
    },
    {
     "name": "stderr",
     "output_type": "stream",
     "text": [
      "Epoch 65/100: 100%|██████████| 1563/1563 [07:28<00:00,  3.48it/s]\n"
     ]
    },
    {
     "name": "stdout",
     "output_type": "stream",
     "text": [
      "Epoch 65/100 | Total: 6311.958290 | Reconstruction: 6220.630858 | Kl: 91.287363 | Clip: 0.200418\n"
     ]
    },
    {
     "name": "stderr",
     "output_type": "stream",
     "text": [
      "Epoch 66/100: 100%|██████████| 1563/1563 [07:15<00:00,  3.59it/s]\n"
     ]
    },
    {
     "name": "stdout",
     "output_type": "stream",
     "text": [
      "Epoch 66/100 | Total: 6311.989234 | Reconstruction: 6220.673190 | Kl: 91.275977 | Clip: 0.200420\n"
     ]
    },
    {
     "name": "stderr",
     "output_type": "stream",
     "text": [
      "Epoch 67/100: 100%|██████████| 1563/1563 [07:27<00:00,  3.49it/s]\n"
     ]
    },
    {
     "name": "stdout",
     "output_type": "stream",
     "text": [
      "Epoch 67/100 | Total: 6311.494634 | Reconstruction: 6220.098864 | Kl: 91.355703 | Clip: 0.200424\n"
     ]
    },
    {
     "name": "stderr",
     "output_type": "stream",
     "text": [
      "Epoch 68/100: 100%|██████████| 1563/1563 [07:15<00:00,  3.59it/s]\n"
     ]
    },
    {
     "name": "stdout",
     "output_type": "stream",
     "text": [
      "Epoch 68/100 | Total: 6310.794016 | Reconstruction: 6219.443049 | Kl: 91.310905 | Clip: 0.200391\n"
     ]
    },
    {
     "name": "stderr",
     "output_type": "stream",
     "text": [
      "Epoch 69/100: 100%|██████████| 1563/1563 [07:27<00:00,  3.49it/s]\n"
     ]
    },
    {
     "name": "stdout",
     "output_type": "stream",
     "text": [
      "Epoch 69/100 | Total: 6310.343277 | Reconstruction: 6218.912959 | Kl: 91.390252 | Clip: 0.200427\n"
     ]
    },
    {
     "name": "stderr",
     "output_type": "stream",
     "text": [
      "Epoch 70/100: 100%|██████████| 1563/1563 [07:15<00:00,  3.59it/s]\n"
     ]
    },
    {
     "name": "stdout",
     "output_type": "stream",
     "text": [
      "Epoch 70/100 | Total: 6310.025409 | Reconstruction: 6218.525470 | Kl: 91.459876 | Clip: 0.200390\n"
     ]
    },
    {
     "name": "stderr",
     "output_type": "stream",
     "text": [
      "Epoch 71/100: 100%|██████████| 1563/1563 [07:28<00:00,  3.48it/s]\n"
     ]
    },
    {
     "name": "stdout",
     "output_type": "stream",
     "text": [
      "Epoch 71/100 | Total: 6309.651504 | Reconstruction: 6218.047564 | Kl: 91.563876 | Clip: 0.200413\n"
     ]
    },
    {
     "name": "stderr",
     "output_type": "stream",
     "text": [
      "Epoch 72/100: 100%|██████████| 1563/1563 [07:15<00:00,  3.59it/s]\n"
     ]
    },
    {
     "name": "stdout",
     "output_type": "stream",
     "text": [
      "Epoch 72/100 | Total: 6309.045984 | Reconstruction: 6217.357393 | Kl: 91.648517 | Clip: 0.200440\n"
     ]
    },
    {
     "name": "stderr",
     "output_type": "stream",
     "text": [
      "Epoch 73/100: 100%|██████████| 1563/1563 [07:26<00:00,  3.50it/s]\n"
     ]
    },
    {
     "name": "stdout",
     "output_type": "stream",
     "text": [
      "Epoch 73/100 | Total: 6308.656819 | Reconstruction: 6216.860307 | Kl: 91.756443 | Clip: 0.200420\n"
     ]
    },
    {
     "name": "stderr",
     "output_type": "stream",
     "text": [
      "Epoch 74/100: 100%|██████████| 1563/1563 [07:14<00:00,  3.60it/s]\n"
     ]
    },
    {
     "name": "stdout",
     "output_type": "stream",
     "text": [
      "Epoch 74/100 | Total: 6308.226777 | Reconstruction: 6216.357754 | Kl: 91.828956 | Clip: 0.200440\n"
     ]
    },
    {
     "name": "stderr",
     "output_type": "stream",
     "text": [
      "Epoch 75/100: 100%|██████████| 1563/1563 [07:30<00:00,  3.47it/s]\n"
     ]
    },
    {
     "name": "stdout",
     "output_type": "stream",
     "text": [
      "Epoch 75/100 | Total: 6307.926315 | Reconstruction: 6216.018903 | Kl: 91.867335 | Clip: 0.200451\n"
     ]
    },
    {
     "name": "stderr",
     "output_type": "stream",
     "text": [
      "Epoch 76/100: 100%|██████████| 1563/1563 [07:15<00:00,  3.59it/s]\n"
     ]
    },
    {
     "name": "stdout",
     "output_type": "stream",
     "text": [
      "Epoch 76/100 | Total: 6307.146587 | Reconstruction: 6215.119007 | Kl: 91.987516 | Clip: 0.200411\n"
     ]
    },
    {
     "name": "stderr",
     "output_type": "stream",
     "text": [
      "Epoch 77/100: 100%|██████████| 1563/1563 [07:29<00:00,  3.48it/s]\n"
     ]
    },
    {
     "name": "stdout",
     "output_type": "stream",
     "text": [
      "Epoch 77/100 | Total: 6306.940540 | Reconstruction: 6214.808435 | Kl: 92.092041 | Clip: 0.200406\n"
     ]
    },
    {
     "name": "stderr",
     "output_type": "stream",
     "text": [
      "Epoch 78/100: 100%|██████████| 1563/1563 [07:14<00:00,  3.60it/s]\n"
     ]
    },
    {
     "name": "stdout",
     "output_type": "stream",
     "text": [
      "Epoch 78/100 | Total: 6306.527055 | Reconstruction: 6214.383399 | Kl: 92.103582 | Clip: 0.200442\n"
     ]
    },
    {
     "name": "stderr",
     "output_type": "stream",
     "text": [
      "Epoch 79/100: 100%|██████████| 1563/1563 [07:29<00:00,  3.48it/s]\n"
     ]
    },
    {
     "name": "stdout",
     "output_type": "stream",
     "text": [
      "Epoch 79/100 | Total: 6306.121986 | Reconstruction: 6213.855539 | Kl: 92.226372 | Clip: 0.200415\n"
     ]
    },
    {
     "name": "stderr",
     "output_type": "stream",
     "text": [
      "Epoch 80/100: 100%|██████████| 1563/1563 [07:14<00:00,  3.59it/s]\n"
     ]
    },
    {
     "name": "stdout",
     "output_type": "stream",
     "text": [
      "Epoch 80/100 | Total: 6305.886077 | Reconstruction: 6213.542744 | Kl: 92.303256 | Clip: 0.200440\n"
     ]
    },
    {
     "name": "stderr",
     "output_type": "stream",
     "text": [
      "Epoch 81/100: 100%|██████████| 1563/1563 [07:28<00:00,  3.49it/s]\n"
     ]
    },
    {
     "name": "stdout",
     "output_type": "stream",
     "text": [
      "Epoch 81/100 | Total: 6305.574928 | Reconstruction: 6213.188231 | Kl: 92.346628 | Clip: 0.200410\n"
     ]
    },
    {
     "name": "stderr",
     "output_type": "stream",
     "text": [
      "Epoch 82/100: 100%|██████████| 1563/1563 [07:14<00:00,  3.60it/s]\n"
     ]
    },
    {
     "name": "stdout",
     "output_type": "stream",
     "text": [
      "Epoch 82/100 | Total: 6304.782720 | Reconstruction: 6212.309605 | Kl: 92.433039 | Clip: 0.200425\n"
     ]
    },
    {
     "name": "stderr",
     "output_type": "stream",
     "text": [
      "Epoch 83/100: 100%|██████████| 1563/1563 [07:26<00:00,  3.50it/s]\n"
     ]
    },
    {
     "name": "stdout",
     "output_type": "stream",
     "text": [
      "Epoch 83/100 | Total: 6304.633850 | Reconstruction: 6212.079249 | Kl: 92.514533 | Clip: 0.200428\n"
     ]
    },
    {
     "name": "stderr",
     "output_type": "stream",
     "text": [
      "Epoch 84/100: 100%|██████████| 1563/1563 [07:14<00:00,  3.60it/s]\n"
     ]
    },
    {
     "name": "stdout",
     "output_type": "stream",
     "text": [
      "Epoch 84/100 | Total: 6304.371255 | Reconstruction: 6211.769393 | Kl: 92.561793 | Clip: 0.200419\n"
     ]
    },
    {
     "name": "stderr",
     "output_type": "stream",
     "text": [
      "Epoch 85/100: 100%|██████████| 1563/1563 [07:28<00:00,  3.49it/s]\n"
     ]
    },
    {
     "name": "stdout",
     "output_type": "stream",
     "text": [
      "Epoch 85/100 | Total: 6303.812724 | Reconstruction: 6211.189109 | Kl: 92.583541 | Clip: 0.200442\n"
     ]
    },
    {
     "name": "stderr",
     "output_type": "stream",
     "text": [
      "Epoch 86/100: 100%|██████████| 1563/1563 [07:17<00:00,  3.58it/s]\n"
     ]
    },
    {
     "name": "stdout",
     "output_type": "stream",
     "text": [
      "Epoch 86/100 | Total: 6303.393552 | Reconstruction: 6210.713665 | Kl: 92.639824 | Clip: 0.200459\n"
     ]
    },
    {
     "name": "stderr",
     "output_type": "stream",
     "text": [
      "Epoch 87/100: 100%|██████████| 1563/1563 [07:27<00:00,  3.49it/s]\n"
     ]
    },
    {
     "name": "stdout",
     "output_type": "stream",
     "text": [
      "Epoch 87/100 | Total: 6303.159224 | Reconstruction: 6210.412436 | Kl: 92.706708 | Clip: 0.200450\n"
     ]
    },
    {
     "name": "stderr",
     "output_type": "stream",
     "text": [
      "Epoch 88/100: 100%|██████████| 1563/1563 [07:14<00:00,  3.60it/s]\n"
     ]
    },
    {
     "name": "stdout",
     "output_type": "stream",
     "text": [
      "Epoch 88/100 | Total: 6302.835185 | Reconstruction: 6209.961096 | Kl: 92.834015 | Clip: 0.200409\n"
     ]
    },
    {
     "name": "stderr",
     "output_type": "stream",
     "text": [
      "Epoch 89/100: 100%|██████████| 1563/1563 [07:27<00:00,  3.49it/s]\n"
     ]
    },
    {
     "name": "stdout",
     "output_type": "stream",
     "text": [
      "Epoch 89/100 | Total: 6302.450299 | Reconstruction: 6209.490779 | Kl: 92.919451 | Clip: 0.200402\n"
     ]
    },
    {
     "name": "stderr",
     "output_type": "stream",
     "text": [
      "Epoch 90/100: 100%|██████████| 1563/1563 [07:14<00:00,  3.60it/s]\n"
     ]
    },
    {
     "name": "stdout",
     "output_type": "stream",
     "text": [
      "Epoch 90/100 | Total: 6302.152859 | Reconstruction: 6209.208246 | Kl: 92.904537 | Clip: 0.200410\n"
     ]
    },
    {
     "name": "stderr",
     "output_type": "stream",
     "text": [
      "Epoch 91/100: 100%|██████████| 1563/1563 [07:27<00:00,  3.49it/s]\n"
     ]
    },
    {
     "name": "stdout",
     "output_type": "stream",
     "text": [
      "Epoch 91/100 | Total: 6301.586104 | Reconstruction: 6208.498903 | Kl: 93.047124 | Clip: 0.200445\n"
     ]
    },
    {
     "name": "stderr",
     "output_type": "stream",
     "text": [
      "Epoch 92/100: 100%|██████████| 1563/1563 [07:14<00:00,  3.60it/s]\n"
     ]
    },
    {
     "name": "stdout",
     "output_type": "stream",
     "text": [
      "Epoch 92/100 | Total: 6301.436717 | Reconstruction: 6208.275791 | Kl: 93.120850 | Clip: 0.200444\n"
     ]
    },
    {
     "name": "stderr",
     "output_type": "stream",
     "text": [
      "Epoch 93/100: 100%|██████████| 1563/1563 [07:28<00:00,  3.48it/s]\n"
     ]
    },
    {
     "name": "stdout",
     "output_type": "stream",
     "text": [
      "Epoch 93/100 | Total: 6301.070364 | Reconstruction: 6207.906953 | Kl: 93.123336 | Clip: 0.200425\n"
     ]
    },
    {
     "name": "stderr",
     "output_type": "stream",
     "text": [
      "Epoch 94/100: 100%|██████████| 1563/1563 [07:15<00:00,  3.59it/s]\n"
     ]
    },
    {
     "name": "stdout",
     "output_type": "stream",
     "text": [
      "Epoch 94/100 | Total: 6300.969065 | Reconstruction: 6207.644022 | Kl: 93.284967 | Clip: 0.200434\n"
     ]
    },
    {
     "name": "stderr",
     "output_type": "stream",
     "text": [
      "Epoch 95/100: 100%|██████████| 1563/1563 [07:22<00:00,  3.53it/s]\n"
     ]
    },
    {
     "name": "stdout",
     "output_type": "stream",
     "text": [
      "Epoch 95/100 | Total: 6300.556461 | Reconstruction: 6207.253476 | Kl: 93.262909 | Clip: 0.200447\n"
     ]
    },
    {
     "name": "stderr",
     "output_type": "stream",
     "text": [
      "Epoch 96/100: 100%|██████████| 1563/1563 [07:22<00:00,  3.54it/s]\n"
     ]
    },
    {
     "name": "stdout",
     "output_type": "stream",
     "text": [
      "Epoch 96/100 | Total: 6300.176572 | Reconstruction: 6206.861353 | Kl: 93.275158 | Clip: 0.200416\n"
     ]
    },
    {
     "name": "stderr",
     "output_type": "stream",
     "text": [
      "Epoch 97/100: 100%|██████████| 1563/1563 [07:16<00:00,  3.58it/s]\n"
     ]
    },
    {
     "name": "stdout",
     "output_type": "stream",
     "text": [
      "Epoch 97/100 | Total: 6299.752730 | Reconstruction: 6206.342381 | Kl: 93.370278 | Clip: 0.200436\n"
     ]
    },
    {
     "name": "stderr",
     "output_type": "stream",
     "text": [
      "Epoch 98/100: 100%|██████████| 1563/1563 [07:28<00:00,  3.48it/s]\n"
     ]
    },
    {
     "name": "stdout",
     "output_type": "stream",
     "text": [
      "Epoch 98/100 | Total: 6299.578864 | Reconstruction: 6206.130282 | Kl: 93.408505 | Clip: 0.200425\n"
     ]
    },
    {
     "name": "stderr",
     "output_type": "stream",
     "text": [
      "Epoch 99/100: 100%|██████████| 1563/1563 [07:15<00:00,  3.59it/s]\n"
     ]
    },
    {
     "name": "stdout",
     "output_type": "stream",
     "text": [
      "Epoch 99/100 | Total: 6299.297234 | Reconstruction: 6205.814621 | Kl: 93.442548 | Clip: 0.200415\n",
      "\n",
      "Training complete! Check the visualization directory for results.\n"
     ]
    }
   ],
   "execution_count": 3
  },
  {
   "metadata": {},
   "cell_type": "code",
   "outputs": [],
   "execution_count": null,
   "source": "|",
   "id": "d4523ab97e90209d"
  }
 ],
 "metadata": {
  "kernelspec": {
   "display_name": "Python 3",
   "language": "python",
   "name": "python3"
  },
  "language_info": {
   "codemirror_mode": {
    "name": "ipython",
    "version": 2
   },
   "file_extension": ".py",
   "mimetype": "text/x-python",
   "name": "python",
   "nbconvert_exporter": "python",
   "pygments_lexer": "ipython2",
   "version": "2.7.6"
  }
 },
 "nbformat": 4,
 "nbformat_minor": 5
}
