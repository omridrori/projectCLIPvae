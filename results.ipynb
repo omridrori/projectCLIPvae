{
 "cells": [
  {
   "cell_type": "code",
   "id": "initial_id",
   "metadata": {
    "collapsed": true,
    "jupyter": {
     "is_executing": true
    },
    "ExecuteTime": {
     "start_time": "2025-02-19T17:36:09.293455Z"
    }
   },
   "source": [
    "import torch\n",
    "from celeba_project import generate_clip_labels, train_vae_model\n",
    "import os\n",
    "from utils import validate_attribute_config\n",
    "\n",
    "\n",
    "\n",
    "# User-defined attributes\n",
    "user_attributes = {\n",
    "\"age_group\": [\"kid\", \"teen\", \"adult\", \"elderly\"],\n",
    "\"facial_hair_presence\": [\"none\", \"light\", \"full\"]\n",
    "}\n",
    "\n",
    "# Validate attribute configuration\n",
    "validate_attribute_config({name: len(values) for name, values in user_attributes.items()})\n",
    "\n",
    "# Setup directories\n",
    "img_dir = r\"/home/omrid/Desktop/jungo /projectCLIPvae/celeba_dataset/img_align_celeba/img_align_celeba\"\n",
    "vis_dir = os.path.join('training_outputs', 'visualizations')\n",
    "os.makedirs(vis_dir, exist_ok=True)\n",
    "\n",
    "# Generate labels using CLIP\n",
    "print(\"Step 1: Generating labels using CLIP...\")\n",
    "results_df = generate_clip_labels(\n",
    "    user_attributes=user_attributes,\n",
    "    img_dir=img_dir,\n",
    "    max_images=50000\n",
    ")\n",
    "\n",
    "\n"
   ],
   "outputs": [
    {
     "name": "stdout",
     "output_type": "stream",
     "text": [
      "Step 1: Generating labels using CLIP...\n",
      "Generating labels using CLIP...\n",
      "Initializing CLIP model on cuda\n",
      "OpenAI API key found!\n",
      "\n",
      "Initializing Template Generator...\n",
      "API Key provided: Yes\n",
      "Successfully initialized ChatOpenAI\n",
      "\n",
      "Processing 50000 images out of 202599 total images\n",
      "Generating templates...\n",
      "\n",
      "Attempting to generate templates using GPT...\n",
      "\n",
      "Generating templates for attributes:\n",
      "age_group: kid, teen, adult, elderly\n",
      "facial_hair_presence: none, light, full\n",
      "\n",
      "Sending request to GPT...\n"
     ]
    }
   ],
   "execution_count": null
  },
  {
   "metadata": {
    "ExecuteTime": {
     "end_time": "2025-02-19T17:35:45.886457Z",
     "start_time": "2025-02-19T17:35:45.850355Z"
    }
   },
   "cell_type": "code",
   "source": [
    "import os\n",
    "\n",
    "import pandas as pd\n",
    "import torch\n",
    "\n",
    "from celeba_project import train_vae_model\n",
    "from utils import validate_attribute_config\n",
    "\n",
    "# User-defined attributes\n",
    "# User-defined attributes\n",
    "\n",
    "results_df = pd.read_csv(\"results.csv\")\n",
    "\n",
    "validate_attribute_config({name: len(values) for name, values in user_attributes.items()})\n",
    "\n",
    "# Setup directories\n",
    "img_dir = r\"/home/omrid/Desktop/jungo /projectCLIPvae/celeba_dataset/img_align_celeba/img_align_celeba\"\n",
    "vis_dir = os.path.join('training_outputs', 'visualizations')\n",
    "os.makedirs(vis_dir, exist_ok=True)\n",
    "\n",
    "# Train VAE\n",
    "print(\"\\nStep 2: Training VAE...\")\n",
    "device = torch.device(\"cuda\" if torch.cuda.is_available() else \"cpu\")\n",
    "vae, loss_history = train_vae_model(\n",
    "    results_df=results_df,\n",
    "    user_attributes=user_attributes,\n",
    "    img_dir=img_dir,\n",
    "    device=device,\n",
    "    batch_size=32,\n",
    "    num_epochs=100,\n",
    "    vis_dir=vis_dir\n",
    ")\n",
    "\n",
    "print(\"\\nTraining complete! Check the visualization directory for results.\")"
   ],
   "id": "2ab244f0362f9d36",
   "outputs": [
    {
     "name": "stdout",
     "output_type": "stream",
     "text": [
      "\n",
      "Step 2: Training VAE...\n",
      "\n",
      "Preparing for training...\n"
     ]
    },
    {
     "ename": "ValueError",
     "evalue": "Attribute age_group not found in DataFrame",
     "output_type": "error",
     "traceback": [
      "\u001B[0;31m---------------------------------------------------------------------------\u001B[0m",
      "\u001B[0;31mValueError\u001B[0m                                Traceback (most recent call last)",
      "Cell \u001B[0;32mIn[3], line 24\u001B[0m\n\u001B[1;32m     22\u001B[0m \u001B[38;5;28mprint\u001B[39m(\u001B[38;5;124m\"\u001B[39m\u001B[38;5;130;01m\\n\u001B[39;00m\u001B[38;5;124mStep 2: Training VAE...\u001B[39m\u001B[38;5;124m\"\u001B[39m)\n\u001B[1;32m     23\u001B[0m device \u001B[38;5;241m=\u001B[39m torch\u001B[38;5;241m.\u001B[39mdevice(\u001B[38;5;124m\"\u001B[39m\u001B[38;5;124mcuda\u001B[39m\u001B[38;5;124m\"\u001B[39m \u001B[38;5;28;01mif\u001B[39;00m torch\u001B[38;5;241m.\u001B[39mcuda\u001B[38;5;241m.\u001B[39mis_available() \u001B[38;5;28;01melse\u001B[39;00m \u001B[38;5;124m\"\u001B[39m\u001B[38;5;124mcpu\u001B[39m\u001B[38;5;124m\"\u001B[39m)\n\u001B[0;32m---> 24\u001B[0m vae, loss_history \u001B[38;5;241m=\u001B[39m \u001B[43mtrain_vae_model\u001B[49m\u001B[43m(\u001B[49m\n\u001B[1;32m     25\u001B[0m \u001B[43m    \u001B[49m\u001B[43mresults_df\u001B[49m\u001B[38;5;241;43m=\u001B[39;49m\u001B[43mresults_df\u001B[49m\u001B[43m,\u001B[49m\n\u001B[1;32m     26\u001B[0m \u001B[43m    \u001B[49m\u001B[43muser_attributes\u001B[49m\u001B[38;5;241;43m=\u001B[39;49m\u001B[43muser_attributes\u001B[49m\u001B[43m,\u001B[49m\n\u001B[1;32m     27\u001B[0m \u001B[43m    \u001B[49m\u001B[43mimg_dir\u001B[49m\u001B[38;5;241;43m=\u001B[39;49m\u001B[43mimg_dir\u001B[49m\u001B[43m,\u001B[49m\n\u001B[1;32m     28\u001B[0m \u001B[43m    \u001B[49m\u001B[43mdevice\u001B[49m\u001B[38;5;241;43m=\u001B[39;49m\u001B[43mdevice\u001B[49m\u001B[43m,\u001B[49m\n\u001B[1;32m     29\u001B[0m \u001B[43m    \u001B[49m\u001B[43mbatch_size\u001B[49m\u001B[38;5;241;43m=\u001B[39;49m\u001B[38;5;241;43m32\u001B[39;49m\u001B[43m,\u001B[49m\n\u001B[1;32m     30\u001B[0m \u001B[43m    \u001B[49m\u001B[43mnum_epochs\u001B[49m\u001B[38;5;241;43m=\u001B[39;49m\u001B[38;5;241;43m100\u001B[39;49m\u001B[43m,\u001B[49m\n\u001B[1;32m     31\u001B[0m \u001B[43m    \u001B[49m\u001B[43mvis_dir\u001B[49m\u001B[38;5;241;43m=\u001B[39;49m\u001B[43mvis_dir\u001B[49m\n\u001B[1;32m     32\u001B[0m \u001B[43m)\u001B[49m\n\u001B[1;32m     34\u001B[0m \u001B[38;5;28mprint\u001B[39m(\u001B[38;5;124m\"\u001B[39m\u001B[38;5;130;01m\\n\u001B[39;00m\u001B[38;5;124mTraining complete! Check the visualization directory for results.\u001B[39m\u001B[38;5;124m\"\u001B[39m)\n",
      "File \u001B[0;32m~/Desktop/jungo /projectCLIPvae/celeba_project.py:117\u001B[0m, in \u001B[0;36mtrain_vae_model\u001B[0;34m(results_df, user_attributes, img_dir, device, batch_size, num_epochs, vis_dir, resampling_strategy)\u001B[0m\n\u001B[1;32m    114\u001B[0m \u001B[38;5;28mprint\u001B[39m(\u001B[38;5;124m\"\u001B[39m\u001B[38;5;130;01m\\n\u001B[39;00m\u001B[38;5;124mPreparing for training...\u001B[39m\u001B[38;5;124m\"\u001B[39m)\n\u001B[1;32m    116\u001B[0m \u001B[38;5;66;03m# Convert CLIP results to VAE format\u001B[39;00m\n\u001B[0;32m--> 117\u001B[0m vae_df, attribute_dims \u001B[38;5;241m=\u001B[39m \u001B[43mconvert_clip_to_vae_format\u001B[49m\u001B[43m(\u001B[49m\n\u001B[1;32m    118\u001B[0m \u001B[43m    \u001B[49m\u001B[43mresults_df\u001B[49m\u001B[43m,\u001B[49m\n\u001B[1;32m    119\u001B[0m \u001B[43m    \u001B[49m\u001B[38;5;28;43mlist\u001B[39;49m\u001B[43m(\u001B[49m\u001B[43muser_attributes\u001B[49m\u001B[38;5;241;43m.\u001B[39;49m\u001B[43mkeys\u001B[49m\u001B[43m(\u001B[49m\u001B[43m)\u001B[49m\u001B[43m)\u001B[49m\n\u001B[1;32m    120\u001B[0m \u001B[43m\u001B[49m\u001B[43m)\u001B[49m\n\u001B[1;32m    122\u001B[0m \u001B[38;5;66;03m# Print initial class distribution\u001B[39;00m\n\u001B[1;32m    123\u001B[0m \u001B[38;5;28mprint\u001B[39m(\u001B[38;5;124m\"\u001B[39m\u001B[38;5;130;01m\\n\u001B[39;00m\u001B[38;5;124mInitial class distribution:\u001B[39m\u001B[38;5;124m\"\u001B[39m)\n",
      "File \u001B[0;32m~/Desktop/jungo /projectCLIPvae/utils.py:51\u001B[0m, in \u001B[0;36mconvert_clip_to_vae_format\u001B[0;34m(clip_df, attribute_names)\u001B[0m\n\u001B[1;32m     49\u001B[0m \u001B[38;5;28;01mfor\u001B[39;00m attr \u001B[38;5;129;01min\u001B[39;00m attribute_names:\n\u001B[1;32m     50\u001B[0m     \u001B[38;5;28;01mif\u001B[39;00m attr \u001B[38;5;129;01mnot\u001B[39;00m \u001B[38;5;129;01min\u001B[39;00m vae_df\u001B[38;5;241m.\u001B[39mcolumns:\n\u001B[0;32m---> 51\u001B[0m         \u001B[38;5;28;01mraise\u001B[39;00m \u001B[38;5;167;01mValueError\u001B[39;00m(\u001B[38;5;124mf\u001B[39m\u001B[38;5;124m\"\u001B[39m\u001B[38;5;124mAttribute \u001B[39m\u001B[38;5;132;01m{\u001B[39;00mattr\u001B[38;5;132;01m}\u001B[39;00m\u001B[38;5;124m not found in DataFrame\u001B[39m\u001B[38;5;124m\"\u001B[39m)\n\u001B[1;32m     53\u001B[0m     \u001B[38;5;66;03m# Get number of unique values\u001B[39;00m\n\u001B[1;32m     54\u001B[0m     unique_values \u001B[38;5;241m=\u001B[39m \u001B[38;5;28msorted\u001B[39m(vae_df[attr]\u001B[38;5;241m.\u001B[39munique())\n",
      "\u001B[0;31mValueError\u001B[0m: Attribute age_group not found in DataFrame"
     ]
    }
   ],
   "execution_count": 3
  },
  {
   "metadata": {},
   "cell_type": "code",
   "outputs": [],
   "execution_count": null,
   "source": "",
   "id": "b16b31f63b2db5e3"
  }
 ],
 "metadata": {
  "kernelspec": {
   "display_name": "Python 3",
   "language": "python",
   "name": "python3"
  },
  "language_info": {
   "codemirror_mode": {
    "name": "ipython",
    "version": 2
   },
   "file_extension": ".py",
   "mimetype": "text/x-python",
   "name": "python",
   "nbconvert_exporter": "python",
   "pygments_lexer": "ipython2",
   "version": "2.7.6"
  }
 },
 "nbformat": 4,
 "nbformat_minor": 5
}
